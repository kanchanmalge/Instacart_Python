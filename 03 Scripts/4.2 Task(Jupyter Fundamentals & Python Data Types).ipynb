{
 "cells": [
  {
   "cell_type": "code",
   "execution_count": null,
   "id": "62d7062c",
   "metadata": {},
   "outputs": [],
   "source": [
    "# Section: Importing Libraries\n",
    "\n",
    "import pandas as pd\n",
    "import numpy as np\n",
    "import os"
   ]
  },
  {
   "cell_type": "code",
   "execution_count": null,
   "id": "dddc669a",
   "metadata": {},
   "outputs": [],
   "source": [
    "# Section: Working with Python Data Types\n",
    "\n",
    "# Code related to working with data types goes here..."
   ]
  },
  {
   "cell_type": "code",
   "execution_count": 1,
   "id": "200165ad",
   "metadata": {},
   "outputs": [
    {
     "name": "stdout",
     "output_type": "stream",
     "text": [
      "100\n"
     ]
    }
   ],
   "source": [
    "#cose 3 different ways of reaching a result of 100\n",
    "x=50\n",
    "y=50\n",
    "x+y\n",
    "print(x+y)"
   ]
  },
  {
   "cell_type": "code",
   "execution_count": 2,
   "id": "bbeda0b8",
   "metadata": {},
   "outputs": [
    {
     "name": "stdout",
     "output_type": "stream",
     "text": [
      "6.35\n"
     ]
    }
   ],
   "source": [
    "#Code 2 floating point variables & divide them by each other\n",
    "a=2.5\n",
    "b=10.2\n",
    "c=(a+b)/2\n",
    "print(c)\n"
   ]
  },
  {
   "cell_type": "code",
   "execution_count": 3,
   "id": "b6199adf",
   "metadata": {},
   "outputs": [
    {
     "name": "stdout",
     "output_type": "stream",
     "text": [
      "concatenated string: goodmorning\n"
     ]
    }
   ],
   "source": [
    "#Construct a short word made up of separate strings\n",
    "\n",
    "x=\"good\"\n",
    "y=\"morning\"\n",
    "x+y\n",
    "concatenated_string=x+y\n",
    "print(\"concatenated string:\",concatenated_string)"
   ]
  },
  {
   "cell_type": "code",
   "execution_count": 4,
   "id": "e99b5383",
   "metadata": {},
   "outputs": [
    {
     "name": "stdout",
     "output_type": "stream",
     "text": [
      "constructed sentence1: I love Programming.\n",
      "constructed sentence2: Python is awesome!\n"
     ]
    }
   ],
   "source": [
    "#Construct 2 short sentences made of separate strings\n",
    "sentence1 =[\"I\", \" \",\"love\",\" \",\"Programming\",\".\"]\n",
    "sentence2 =[\"Python\",\" \",\"is\",\" \",\"awesome\",\"!\"]\n",
    "constructed_sentence1 = ''.join(sentence1)\n",
    "constructed_sentence2 = ''.join(sentence2)\n",
    "print(\"constructed sentence1:\", constructed_sentence1)\n",
    "print(\"constructed sentence2:\",constructed_sentence2)"
   ]
  },
  {
   "cell_type": "code",
   "execution_count": 5,
   "id": "58297d71",
   "metadata": {},
   "outputs": [
    {
     "name": "stdout",
     "output_type": "stream",
     "text": [
      "Repeated string (100 times):\n",
      " Hey,you there?Hey,you there?Hey,you there?Hey,you there?Hey,you there?Hey,you there?Hey,you there?Hey,you there?Hey,you there?Hey,you there?Hey,you there?Hey,you there?Hey,you there?Hey,you there?Hey,you there?Hey,you there?Hey,you there?Hey,you there?Hey,you there?Hey,you there?Hey,you there?Hey,you there?Hey,you there?Hey,you there?Hey,you there?Hey,you there?Hey,you there?Hey,you there?Hey,you there?Hey,you there?Hey,you there?Hey,you there?Hey,you there?Hey,you there?Hey,you there?Hey,you there?Hey,you there?Hey,you there?Hey,you there?Hey,you there?Hey,you there?Hey,you there?Hey,you there?Hey,you there?Hey,you there?Hey,you there?Hey,you there?Hey,you there?Hey,you there?Hey,you there?Hey,you there?Hey,you there?Hey,you there?Hey,you there?Hey,you there?Hey,you there?Hey,you there?Hey,you there?Hey,you there?Hey,you there?Hey,you there?Hey,you there?Hey,you there?Hey,you there?Hey,you there?Hey,you there?Hey,you there?Hey,you there?Hey,you there?Hey,you there?Hey,you there?Hey,you there?Hey,you there?Hey,you there?Hey,you there?Hey,you there?Hey,you there?Hey,you there?Hey,you there?Hey,you there?Hey,you there?Hey,you there?Hey,you there?Hey,you there?Hey,you there?Hey,you there?Hey,you there?Hey,you there?Hey,you there?Hey,you there?Hey,you there?Hey,you there?Hey,you there?Hey,you there?Hey,you there?Hey,you there?Hey,you there?Hey,you there?Hey,you there?Hey,you there?\n"
     ]
    }
   ],
   "source": [
    "#Make a string appear 100 times\n",
    "string_to_repeat= \"Hey,you there?\"\n",
    "repeated_string= string_to_repeat * 100\n",
    "print(\"Repeated string (100 times):\\n\",repeated_string)"
   ]
  },
  {
   "cell_type": "code",
   "execution_count": null,
   "id": "b79aaaae",
   "metadata": {},
   "outputs": [],
   "source": []
  }
 ],
 "metadata": {
  "kernelspec": {
   "display_name": "Python 3 (ipykernel)",
   "language": "python",
   "name": "python3"
  },
  "language_info": {
   "codemirror_mode": {
    "name": "ipython",
    "version": 3
   },
   "file_extension": ".py",
   "mimetype": "text/x-python",
   "name": "python",
   "nbconvert_exporter": "python",
   "pygments_lexer": "ipython3",
   "version": "3.11.4"
  }
 },
 "nbformat": 4,
 "nbformat_minor": 5
}
